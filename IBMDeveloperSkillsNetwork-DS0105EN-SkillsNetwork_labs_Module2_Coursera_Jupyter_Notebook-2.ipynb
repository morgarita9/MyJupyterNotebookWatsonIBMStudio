{
  "metadata": {
    "kernelspec": {
      "name": "python",
      "display_name": "Pyolite",
      "language": "python"
    },
    "language_info": {
      "codemirror_mode": {
        "name": "python",
        "version": 3
      },
      "file_extension": ".py",
      "mimetype": "text/x-python",
      "name": "python",
      "nbconvert_exporter": "python",
      "pygments_lexer": "ipython3",
      "version": "3.8"
    }
  },
  "nbformat_minor": 4,
  "nbformat": 4,
  "cells": [
    {
      "cell_type": "markdown",
      "source": "<center>\n    <img src=\"https://cf-courses-data.s3.us.cloud-object-storage.appdomain.cloud/IBMDeveloperSkillsNetwork-DS0105EN-SkillsNetwork/labs/Module2/images/SN_web_lightmode.png\" width=\"300\" alt=\"cognitiveclass.ai logo\">\n</center>\n",
      "metadata": {}
    },
    {
      "cell_type": "markdown",
      "source": "#### Add your code below following the instructions given in the course\n",
      "metadata": {}
    },
    {
      "cell_type": "markdown",
      "source": "# My Jupyter Notebook on IBM Watson Studio",
      "metadata": {}
    },
    {
      "cell_type": "markdown",
      "source": "**Morgan White** <br>\nData Scientist in Healthcare",
      "metadata": {}
    },
    {
      "cell_type": "markdown",
      "source": "*I am interested in data science because I love sovling complex problems. I have a passion for helping people, and believe a lot of the answers in improving healthcare can be found in the data.* ",
      "metadata": {}
    },
    {
      "cell_type": "markdown",
      "source": "### My code in Cell 5 will divide 10 by 5",
      "metadata": {}
    },
    {
      "cell_type": "code",
      "source": "10/5",
      "metadata": {
        "trusted": true
      },
      "execution_count": 1,
      "outputs": [
        {
          "execution_count": 1,
          "output_type": "execute_result",
          "data": {
            "text/plain": "2.0"
          },
          "metadata": {}
        }
      ]
    },
    {
      "cell_type": "markdown",
      "source": "| Khal        | Harli           | Beau  |\n| :-------------: |:-------------:| :-----:|\n| `100`      | 65 | `12` |\n| [Dogo](https://www.akc.org/dog-breeds/dogo-argentino/)      | [Rhodesian](https://www.akc.org/dog-breeds/rhodesian-ridgeback/)      |   [Yorkie](https://www.akc.org/dog-breeds/yorkshire-terrier/) |\n",
      "metadata": {}
    }
  ]
}